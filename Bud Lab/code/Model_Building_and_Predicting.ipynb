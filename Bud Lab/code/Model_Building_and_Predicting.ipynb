{
 "cells": [
  {
   "cell_type": "markdown",
   "metadata": {},
   "source": [
    "# Training model, making prediction and comparison"
   ]
  },
  {
   "cell_type": "code",
   "execution_count": 1,
   "metadata": {
    "collapsed": true
   },
   "outputs": [],
   "source": [
    "# Set up Notebook\n",
    "\n",
    "% matplotlib inline\n",
    "\n",
    "# Standard imports\n",
    "import numpy as np\n",
    "import pandas as pd\n",
    "import matplotlib.pyplot as plt\n",
    "import seaborn as sns\n",
    "\n",
    "# We do this to ignore several specific Pandas warnings\n",
    "import warnings\n",
    "warnings.filterwarnings(\"ignore\")"
   ]
  },
  {
   "cell_type": "code",
   "execution_count": 2,
   "metadata": {
    "collapsed": true
   },
   "outputs": [],
   "source": [
    "training_data_X = pd.read_csv(\"../data/training_data_X.csv\")\n",
    "testing_data_X = pd.read_csv(\"../data/testing_data_X.csv\")"
   ]
  },
  {
   "cell_type": "code",
   "execution_count": 3,
   "metadata": {
    "collapsed": false
   },
   "outputs": [],
   "source": [
    "training_data_Y = pd.read_csv(\"../data/training_data_Y.csv\",header=None,names=[\"index\",\"income\"])\n",
    "testing_data_Y = pd.read_csv(\"../data/testing_data_Y.csv\",header=None,names=[\"index\",\"income\"])"
   ]
  },
  {
   "cell_type": "code",
   "execution_count": 4,
   "metadata": {
    "collapsed": true
   },
   "outputs": [],
   "source": [
    "training_data_Y = training_data_Y[\"income\"]\n",
    "testing_data_Y = testing_data_Y[\"income\"]"
   ]
  },
  {
   "cell_type": "code",
   "execution_count": 5,
   "metadata": {
    "collapsed": false
   },
   "outputs": [
    {
     "data": {
      "text/plain": [
       "3772"
      ]
     },
     "execution_count": 5,
     "metadata": {},
     "output_type": "execute_result"
    }
   ],
   "source": [
    "testing_data_Y.head(10)\n",
    "len(testing_data_Y[testing_data_Y==1])"
   ]
  },
  {
   "cell_type": "code",
   "execution_count": 6,
   "metadata": {
    "collapsed": true
   },
   "outputs": [],
   "source": [
    "#define a prediction result report\n",
    "from sklearn.metrics import classification_report\n",
    "def prediction_evaluation(model_name,model,test_X,test_Y):\n",
    "    y_pred = model.predict(test_X)\n",
    "    cm = metrics.confusion_matrix(test_Y, y_pred)\n",
    "    plt.figure(figsize=(5,5))\n",
    "    # resulting confusion matrix\n",
    "    sns.heatmap(cm, annot=True, fmt=\"d\", xticklabels=[\"<=50k\",\">50k\"], yticklabels=[\"<=50k\",\">50k\"])\n",
    "    \n",
    "    # classificatioon reprot\n",
    "    print(classification_report(test_Y, y_pred, \\\n",
    "                            target_names = [\"<=50k\",\">50k\"]))\n",
    "    # accuracy reprot\n",
    "    print(\"#### {0} accuracy = {1:5.1f}%\".format(model_name,100.0 * model.score(test_X, test_Y)))\n",
    "    \n",
    "    plt.show()"
   ]
  },
  {
   "cell_type": "markdown",
   "metadata": {},
   "source": [
    "# 1. The first model to fit is Logistic Regression"
   ]
  },
  {
   "cell_type": "code",
   "execution_count": 7,
   "metadata": {
    "collapsed": true
   },
   "outputs": [],
   "source": [
    "import sklearn.linear_model as linear_model\n",
    "import sklearn.metrics as metrics"
   ]
  },
  {
   "cell_type": "code",
   "execution_count": 8,
   "metadata": {
    "collapsed": false
   },
   "outputs": [
    {
     "data": {
      "text/plain": [
       "LogisticRegression(C=1.0, class_weight=None, dual=False, fit_intercept=True,\n",
       "          intercept_scaling=1, max_iter=100, multi_class='ovr', n_jobs=1,\n",
       "          penalty='l2', random_state=None, solver='liblinear', tol=0.0001,\n",
       "          verbose=0, warm_start=False)"
      ]
     },
     "execution_count": 8,
     "metadata": {},
     "output_type": "execute_result"
    }
   ],
   "source": [
    "model_1 = linear_model.LogisticRegression()\n",
    "\n",
    "model_1.fit(training_data_X, training_data_Y)\n",
    "\n"
   ]
  },
  {
   "cell_type": "code",
   "execution_count": 9,
   "metadata": {
    "collapsed": false
   },
   "outputs": [
    {
     "name": "stdout",
     "output_type": "stream",
     "text": [
      "             precision    recall  f1-score   support\n",
      "\n",
      "      <=50k       0.88      0.93      0.90     11543\n",
      "       >50k       0.73      0.60      0.66      3772\n",
      "\n",
      "avg / total       0.84      0.85      0.84     15315\n",
      "\n",
      "#### Logistic Regression accuracy =  84.8%\n"
     ]
    },
    {
     "data": {
      "image/png": "[encoded data removed]",
      "text/plain": [
       "<matplotlib.figure.Figure at 0x1e246a04eb8>"
      ]
     },
     "metadata": {},
     "output_type": "display_data"
    }
   ],
   "source": [
    "prediction_evaluation(\"Logistic Regression\",model_1,testing_data_X,testing_data_Y)"
   ]
  },
  {
   "cell_type": "markdown",
   "metadata": {},
   "source": [
    "# 2. The second model to fit is Random Forest"
   ]
  },
  {
   "cell_type": "code",
   "execution_count": 10,
   "metadata": {
    "collapsed": true
   },
   "outputs": [],
   "source": [
    "# let's try Random Forests\n",
    "from sklearn.ensemble import RandomForestClassifier"
   ]
  },
  {
   "cell_type": "code",
   "execution_count": 11,
   "metadata": {
    "collapsed": true
   },
   "outputs": [],
   "source": [
    "# Let's build our model and train it all at once\n",
    "model_2 = RandomForestClassifier(n_estimators=60, max_depth=None,\n",
    "                             min_samples_split=1, random_state=0)\n",
    "\n",
    "model_2.fit(training_data_X, training_data_Y)\n",
    "y_pred = model_2.predict(testing_data_X)"
   ]
  },
  {
   "cell_type": "code",
   "execution_count": 12,
   "metadata": {
    "collapsed": false
   },
   "outputs": [
    {
     "name": "stdout",
     "output_type": "stream",
     "text": [
      "             precision    recall  f1-score   support\n",
      "\n",
      "      <=50k       0.88      0.94      0.91     11543\n",
      "       >50k       0.76      0.59      0.67      3772\n",
      "\n",
      "avg / total       0.85      0.85      0.85     15315\n",
      "\n",
      "#### Random Forest accuracy =  85.3%\n"
     ]
    },
    {
     "data": {
      "image/png": "[encoded data removed]",
      "text/plain": [
       "<matplotlib.figure.Figure at 0x1e249b26940>"
      ]
     },
     "metadata": {},
     "output_type": "display_data"
    }
   ],
   "source": [
    "prediction_evaluation(\"Random Forest\",model_2,testing_data_X,testing_data_Y)"
   ]
  },
  {
   "cell_type": "markdown",
   "metadata": {},
   "source": [
    "# 3. The third model to fit is Gradient Boosted Machine "
   ]
  },
  {
   "cell_type": "code",
   "execution_count": 13,
   "metadata": {
    "collapsed": false
   },
   "outputs": [],
   "source": [
    "from sklearn.ensemble import GradientBoostingClassifier\n",
    "from sklearn.grid_search import GridSearchCV\n",
    "from sklearn.utils import check_random_state"
   ]
  },
  {
   "cell_type": "code",
   "execution_count": 21,
   "metadata": {
    "collapsed": false
   },
   "outputs": [
    {
     "data": {
      "text/plain": [
       "GradientBoostingClassifier(init=None, learning_rate=0.1, loss='deviance',\n",
       "              max_depth=6, max_features=None, max_leaf_nodes=None,\n",
       "              min_samples_leaf=1, min_samples_split=2,\n",
       "              min_weight_fraction_leaf=0.0, n_estimators=60,\n",
       "              presort='auto',\n",
       "              random_state=<mtrand.RandomState object at 0x000001E24A9225E8>,\n",
       "              subsample=1.0, verbose=0, warm_start=False)"
      ]
     },
     "execution_count": 21,
     "metadata": {},
     "output_type": "execute_result"
    }
   ],
   "source": [
    "model_3 = GradientBoostingClassifier(n_estimators=60, random_state=check_random_state(0), max_depth=6)\n",
    "model_3.fit(training_data_X, training_data_Y)"
   ]
  },
  {
   "cell_type": "code",
   "execution_count": 22,
   "metadata": {
    "collapsed": false
   },
   "outputs": [
    {
     "name": "stdout",
     "output_type": "stream",
     "text": [
      "             precision    recall  f1-score   support\n",
      "\n",
      "      <=50k       0.88      0.94      0.91     11543\n",
      "       >50k       0.78      0.62      0.69      3772\n",
      "\n",
      "avg / total       0.86      0.86      0.86     15315\n",
      "\n",
      "#### Gradient Boosted Classifier accuracy =  86.2%\n"
     ]
    },
    {
     "data": {
      "image/png": "[encoded data removed]",
      "text/plain": [
       "<matplotlib.figure.Figure at 0x1e24a9bdbe0>"
      ]
     },
     "metadata": {},
     "output_type": "display_data"
    }
   ],
   "source": [
    "prediction_evaluation(\"Gradient Boosted Classifier\", model_3, testing_data_X,testing_data_Y)"
   ]
  },
  {
   "cell_type": "markdown",
   "metadata": {},
   "source": [
    "# Tuning parameters using grid search"
   ]
  },
  {
   "cell_type": "code",
   "execution_count": 16,
   "metadata": {
    "collapsed": false
   },
   "outputs": [],
   "source": [
    "from sklearn.grid_search import GridSearchCV"
   ]
  },
  {
   "cell_type": "code",
   "execution_count": 17,
   "metadata": {
    "collapsed": true
   },
   "outputs": [],
   "source": [
    "#Implements a grid search on specified parameters and returns the best parameter value.\n",
    "def get_best_param(estimator,X_train, y_train,param_grid):\n",
    "\n",
    "    best_param_model = GridSearchCV(estimator=estimator, param_grid=param_grid)\n",
    "    best_param_model.fit(X_train, y_train)\n",
    "    best_param = best_param_model.best_params_\n",
    "    \n",
    "    return best_param"
   ]
  },
  {
   "cell_type": "code",
   "execution_count": 25,
   "metadata": {
    "collapsed": false
   },
   "outputs": [
    {
     "name": "stdout",
     "output_type": "stream",
     "text": [
      "{'max_depth': 4}\n"
     ]
    }
   ],
   "source": [
    "# let's try this on Gradient Boosted Classifier\n",
    "# first define the parameters to tune\n",
    "param_grid_3 = {'max_depth':list(range(1,20))}\n",
    "\n",
    "# this might take some time! \n",
    "best_param = get_best_param(model_3,training_data_X, training_data_Y,param_grid_3)\n",
    "print(best_param)"
   ]
  },
  {
   "cell_type": "code",
   "execution_count": 26,
   "metadata": {
    "collapsed": false
   },
   "outputs": [
    {
     "name": "stdout",
     "output_type": "stream",
     "text": [
      "             precision    recall  f1-score   support\n",
      "\n",
      "      <=50k       0.88      0.95      0.91     11543\n",
      "       >50k       0.79      0.61      0.69      3772\n",
      "\n",
      "avg / total       0.86      0.86      0.86     15315\n",
      "\n",
      "#### Gradient Boosted Classifier accuracy =  86.3%\n"
     ]
    },
    {
     "data": {
      "image/png": "[encoded data removed]",
      "text/plain": [
       "<matplotlib.figure.Figure at 0x1e24f9cc5f8>"
      ]
     },
     "metadata": {},
     "output_type": "display_data"
    }
   ],
   "source": [
    "# we should use the tuned parameter to get beetr\n",
    "model_3 = GradientBoostingClassifier(n_estimators=60, random_state=check_random_state(0), max_depth=4)\n",
    "model_3.fit(training_data_X, training_data_Y)\n",
    "prediction_evaluation(\"Gradient Boosted Classifier\", model_3, testing_data_X,testing_data_Y)"
   ]
  },
  {
   "cell_type": "markdown",
   "metadata": {},
   "source": [
    "# summary\n",
    "\n",
    "### Gradient Boosted Classifier is the best model of the three, with an overall accuracy of 86.3%, followed by Random Forest with an accuracy of 85.3%. The last one is Logistical Regression Model ending with an accuracy of 84.8%. \n",
    "#### Noticed that with the tuned parameter of max_depth = 4, the precision improved from 86.2% to 86.3%. Theoretically, I should tune more parameters to get a more objective comparison, but the tuning process takes ages to run. Due to time limit, the tuning process was done on just one parameter of the last model."
   ]
  },
  {
   "cell_type": "code",
   "execution_count": null,
   "metadata": {
    "collapsed": true
   },
   "outputs": [],
   "source": []
  }
 ],
 "metadata": {
  "anaconda-cloud": {},
  "kernelspec": {
   "display_name": "Python [conda root]",
   "language": "python",
   "name": "conda-root-py"
  },
  "language_info": {
   "codemirror_mode": {
    "name": "ipython",
    "version": 3
   },
   "file_extension": ".py",
   "mimetype": "text/x-python",
   "name": "python",
   "nbconvert_exporter": "python",
   "pygments_lexer": "ipython3",
   "version": "3.5.2"
  }
 },
 "nbformat": 4,
 "nbformat_minor": 1
}
